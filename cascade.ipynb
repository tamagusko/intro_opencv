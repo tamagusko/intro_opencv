{
 "cells": [
  {
   "cell_type": "markdown",
   "metadata": {},
   "source": [
    "### JEST internal workshop &#8594; Intro to OpenCV (Crash Course)  # 3/4"
   ]
  },
  {
   "cell_type": "markdown",
   "metadata": {},
   "source": [
    "[Return to OpenCV fundamentals](introOpenCV.ipynb)  \n",
    "[Return to edge detection](edgeDetection.ipynb)"
   ]
  },
  {
   "cell_type": "markdown",
   "metadata": {},
   "source": [
    "## 3. Cascade classification\n",
    "Estimated time needed: **15 min**"
   ]
  },
  {
   "cell_type": "code",
   "execution_count": 1,
   "metadata": {},
   "outputs": [],
   "source": [
    "import cv2 # opencv\n",
    "import numpy as np\n",
    "\n",
    "%matplotlib inline \n",
    "from matplotlib import pyplot as plt\n",
    "import pylab # control figure size \n",
    "pylab.rcParams['figure.figsize'] = (10, 8)"
   ]
  },
  {
   "cell_type": "code",
   "execution_count": 10,
   "metadata": {},
   "outputs": [
    {
     "name": "stdout",
     "output_type": "stream",
     "text": [
      "--2021-09-19 11:15:02--  https://raw.githubusercontent.com/tamagusko/intro_opencv/main/img/coimbra.jpg\n",
      "Resolving raw.githubusercontent.com (raw.githubusercontent.com)... 185.199.111.133, 185.199.109.133, 185.199.110.133, ...\n",
      "Connecting to raw.githubusercontent.com (raw.githubusercontent.com)|185.199.111.133|:443... connected.\n",
      "HTTP request sent, awaiting response... 200 OK\n",
      "Length: 710131 (693K) [image/jpeg]\n",
      "Saving to: ‘img/coimbra.jpg’\n",
      "\n",
      "img/coimbra.jpg     100%[===================>] 693,49K  3,70MB/s    in 0,2s    \n",
      "\n",
      "2021-09-19 11:15:03 (3,70 MB/s) - ‘img/coimbra.jpg’ saved [710131/710131]\n",
      "\n",
      "--2021-09-19 11:15:03--  https://raw.githubusercontent.com/tamagusko/intro_opencv/main/img/elon_musk.jpg\n",
      "Resolving raw.githubusercontent.com (raw.githubusercontent.com)... 185.199.108.133, 185.199.110.133, 185.199.109.133, ...\n",
      "Connecting to raw.githubusercontent.com (raw.githubusercontent.com)|185.199.108.133|:443... connected.\n",
      "HTTP request sent, awaiting response... 200 OK\n",
      "Length: 239507 (234K) [image/jpeg]\n",
      "Saving to: ‘img/elon_musk.jpg’\n",
      "\n",
      "img/elon_musk.jpg   100%[===================>] 233,89K  --.-KB/s    in 0,06s   \n",
      "\n",
      "2021-09-19 11:15:03 (4,08 MB/s) - ‘img/elon_musk.jpg’ saved [239507/239507]\n",
      "\n"
     ]
    }
   ],
   "source": [
    "# download cascade files (https://github.com/opencv/opencv/tree/master/data/haarcascades)\n",
    "\n",
    "!wget --no-check-certificate \\\n",
    "    https://github.com/opencv/opencv/blob/master/data/haarcascades/haarcascade_fullbody.xml \\\n",
    "    -O haarcascade_fullbody.xml\n",
    "\n",
    "!wget --no-check-certificate \\\n",
    "    https://github.com/opencv/opencv/blob/master/data/haarcascades/haarcascade_frontalcatface.xml \\\n",
    "    -O haarcascade_frontalcatface.xml\n",
    "\n",
    "!wget --no-check-certificate \\\n",
    "    https://github.com/opencv/opencv/blob/master/data/haarcascades/haarcascade_eye.xml \\\n",
    "    -O haarcascade_eye.xml\n",
    "    \n",
    "!wget --no-check-certificate \\\n",
    "    https://github.com/opencv/opencv/blob/master/data/haarcascades/haarcascade_eye_tree_eyeglasses.xml \\\n",
    "    -O haarcascade_eye_tree_eyeglasses.xml \n",
    "    \n",
    "# download images\n",
    "\n",
    "!wget --no-check-certificate \\\n",
    "    https://raw.githubusercontent.com/tamagusko/intro_opencv/main/img/coimbra.jpg \\\n",
    "    -O img/coimbra.jpg\n",
    "    \n",
    "!wget --no-check-certificate \\\n",
    "    https://raw.githubusercontent.com/tamagusko/intro_opencv/main/img/elon_musk.jpg \\\n",
    "    -O img/elon_musk.jpg"
   ]
  },
  {
   "cell_type": "code",
   "execution_count": 11,
   "metadata": {},
   "outputs": [],
   "source": [
    "# open images\n",
    "coimbra=cv2.imread('img/coimbra.jpg')\n",
    "elon_musk=cv2.imread('img/elon_musk.jpg')"
   ]
  }
 ],
 "metadata": {
  "kernelspec": {
   "display_name": "Python 3",
   "language": "python",
   "name": "python3"
  },
  "language_info": {
   "codemirror_mode": {
    "name": "ipython",
    "version": 3
   },
   "file_extension": ".py",
   "mimetype": "text/x-python",
   "name": "python",
   "nbconvert_exporter": "python",
   "pygments_lexer": "ipython3",
   "version": "3.8.10"
  },
  "toc": {
   "base_numbering": 1,
   "nav_menu": {},
   "number_sections": true,
   "sideBar": true,
   "skip_h1_title": false,
   "title_cell": "Table of Contents",
   "title_sidebar": "Contents",
   "toc_cell": false,
   "toc_position": {},
   "toc_section_display": true,
   "toc_window_display": false
  }
 },
 "nbformat": 4,
 "nbformat_minor": 4
}
