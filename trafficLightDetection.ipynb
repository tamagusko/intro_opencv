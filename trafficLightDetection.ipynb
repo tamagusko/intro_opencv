{
 "cells": [
  {
   "cell_type": "markdown",
   "metadata": {},
   "source": [
    "### JEST internal workshop &#8594; Intro to OpenCV (Crash Course)  # 4/4"
   ]
  },
  {
   "cell_type": "markdown",
   "metadata": {},
   "source": [
    "[Return to OpenCV fundamentals](introOpenCV.ipynb)  \n",
    "[Return to edge detection](edgeDetection.ipynb)  \n",
    "[Return to cascade classifier](cascade.ipynb)"
   ]
  },
  {
   "cell_type": "markdown",
   "metadata": {},
   "source": [
    "#### 4. Traffic light detector\n",
    "Estimated time needed: **15 min**"
   ]
  },
  {
   "cell_type": "markdown",
   "metadata": {},
   "source": [
    "*Run trafficLights.py in your editor (vscode, spyder, and so on).* \n",
    "\n",
    "Edit the path on line 140."
   ]
  },
  {
   "cell_type": "markdown",
   "metadata": {},
   "source": [
    "### References:\n",
    "\n",
    "HSV: https://realpython.com/python-opencv-color-spaces/#visualizing-nemo-in-hsv-color-space\n",
    "\n",
    "Hough Circle: https://docs.opencv.org/4.5.1/da/d53/tutorial_py_houghcircles.html"
   ]
  }
 ],
 "metadata": {
  "kernelspec": {
   "display_name": "Python 3",
   "language": "python",
   "name": "python3"
  },
  "language_info": {
   "codemirror_mode": {
    "name": "ipython",
    "version": 3
   },
   "file_extension": ".py",
   "mimetype": "text/x-python",
   "name": "python",
   "nbconvert_exporter": "python",
   "pygments_lexer": "ipython3",
   "version": "3.8.10"
  },
  "toc": {
   "base_numbering": 1,
   "nav_menu": {},
   "number_sections": true,
   "sideBar": true,
   "skip_h1_title": false,
   "title_cell": "Table of Contents",
   "title_sidebar": "Contents",
   "toc_cell": false,
   "toc_position": {},
   "toc_section_display": true,
   "toc_window_display": false
  }
 },
 "nbformat": 4,
 "nbformat_minor": 4
}
